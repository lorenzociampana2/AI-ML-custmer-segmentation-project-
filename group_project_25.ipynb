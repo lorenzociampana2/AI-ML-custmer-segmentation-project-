{
  "cells": [
    {
      "cell_type": "markdown",
      "metadata": {
        "cell_id": "60e8e917ea5b4762b1cc8a489aa30eb6",
        "deepnote_cell_type": "markdown",
        "tags": [],
        "id": "4y9jRfKyoby7"
      },
      "source": [
        "# Home assignment\n",
        "\n",
        "* Author: Romain Tavenard (@rtavenar)\n",
        "* License: CC-BY-NC-SA\n",
        "\n",
        "A home assignment from a course on Deep Learning at EDHEC.\n",
        "\n",
        "## Problem statement\n",
        "\n",
        "The dataset we are interested in here is called \"CIFAR10\". It is described [in this page](https://keras.io/api/datasets/cifar10/).\n",
        "\n",
        "You should load the data, **select only 5,000 samples out of the total 50,000 ones**, and preprocess it if needed.\n",
        "You should compare several candidate neural network architectures, and make a decision about which is best for the task at hand.\n",
        "You should be explicit about the indicator(s) you base your decision on.\n",
        "\n",
        "Finally, as a bonus, you could try to evaluate whether it is better to:\n",
        "* train a model from scratch on this dataset alone ;\n",
        "* use a large model that was pre-trained on ImageNet ;\n",
        "* pre-train a model on another dataset called [CIFAR100](https://keras.io/api/datasets/cifar100/) and fine-tune it on CIFAR10.\n",
        "\n",
        "## Deadline\n",
        "\n",
        "Deadline for this home assignment is February 28th, 2025.\n",
        "You should use the link on moodle to hand in your assignment.\n",
        "A single ipynb file should be provided,\n",
        "with execution traces.\n",
        "This assignment is to be done **by groups of three, at most** and names of all students should be included in the file name.\n",
        "\n",
        "## Data loading\n",
        "\n",
        "You can use the dedicated `keras` utility to load this dataset: <https://keras.io/api/datasets/cifar10/>"
      ]
    }
  ],
  "metadata": {
    "deepnote": {},
    "deepnote_execution_queue": [],
    "deepnote_notebook_id": "da3f2328c5444c2a931e21e0c8570d48",
    "kernelspec": {
      "display_name": "py38_data",
      "language": "python",
      "name": "python3"
    },
    "language_info": {
      "name": "python",
      "version": "3.9.6 (default, Sep 26 2022, 11:37:49) \n[Clang 14.0.0 (clang-1400.0.29.202)]"
    },
    "orig_nbformat": 2,
    "vscode": {
      "interpreter": {
        "hash": "25f9a3951446179f6c2016b22a60b44495fe90f43bda7f3caedfe2c1a9cd31f9"
      }
    },
    "colab": {
      "provenance": []
    }
  },
  "nbformat": 4,
  "nbformat_minor": 0
}